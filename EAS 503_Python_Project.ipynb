{
 "cells": [
  {
   "cell_type": "markdown",
   "id": "b93b360e",
   "metadata": {},
   "source": [
    "## Importing Libraries"
   ]
  },
  {
   "cell_type": "code",
   "execution_count": 2,
   "id": "48fd2b1e",
   "metadata": {},
   "outputs": [],
   "source": [
    "import os\n",
    "import pandas as pd\n",
    "import sqlite3\n",
    "from sqlite3 import Error\n",
    "import numpy as np\n",
    "import matplotlib.pyplot as plt\n",
    "import seaborn as sns"
   ]
  },
  {
   "cell_type": "markdown",
   "id": "303a0ace",
   "metadata": {},
   "source": [
    "## Importing Dataset and Visualizing Missing values"
   ]
  },
  {
   "cell_type": "code",
   "execution_count": 5,
   "id": "6438a266",
   "metadata": {},
   "outputs": [
    {
     "name": "stdout",
     "output_type": "stream",
     "text": [
      "longitude               0\n",
      "latitude                0\n",
      "housing_median_age      0\n",
      "total_rooms             0\n",
      "total_bedrooms        207\n",
      "population              0\n",
      "households              0\n",
      "median_income           0\n",
      "median_house_value      0\n",
      "ocean_proximity         0\n",
      "dtype: int64\n"
     ]
    },
    {
     "data": {
      "image/png": "[encoded data removed]",
      "text/plain": [
       "<Figure size 1440x360 with 2 Axes>"
      ]
     },
     "metadata": {
      "needs_background": "light"
     },
     "output_type": "display_data"
    }
   ],
   "source": [
    "# Importing the dataset\n",
    "dataset = pd.read_csv(\"housing.csv\")\n",
    "print(dataset.isnull().sum()) #To check total null values in dataset\n",
    "\n",
    "#To visualize missing values in heat map seaborn:\n",
    "plt.figure(figsize=(20,5))\n",
    "sns.heatmap(dataset.isna().transpose(),\n",
    "            cmap=\"YlGnBu\",\n",
    "            cbar_kws={'label': 'Missing Data'})\n",
    "plt.savefig(\"heatmap_Seaborn_Python.png\", dpi=100)"
   ]
  },
  {
   "cell_type": "markdown",
   "id": "b77f3f66",
   "metadata": {},
   "source": [
    "## Handle the missing values"
   ]
  },
  {
   "cell_type": "code",
   "execution_count": 6,
   "id": "f5b9f693",
   "metadata": {},
   "outputs": [
    {
     "name": "stdout",
     "output_type": "stream",
     "text": [
      "<class 'pandas.core.frame.DataFrame'>\n",
      "RangeIndex: 20640 entries, 0 to 20639\n",
      "Data columns (total 10 columns):\n",
      " #   Column              Non-Null Count  Dtype  \n",
      "---  ------              --------------  -----  \n",
      " 0   longitude           20640 non-null  float64\n",
      " 1   latitude            20640 non-null  float64\n",
      " 2   housing_median_age  20640 non-null  int64  \n",
      " 3   total_rooms         20640 non-null  int64  \n",
      " 4   total_bedrooms      20640 non-null  float64\n",
      " 5   population          20640 non-null  int64  \n",
      " 6   households          20640 non-null  int64  \n",
      " 7   median_income       20640 non-null  float64\n",
      " 8   median_house_value  20640 non-null  int64  \n",
      " 9   ocean_proximity     20640 non-null  object \n",
      "dtypes: float64(4), int64(5), object(1)\n",
      "memory usage: 1.6+ MB\n",
      "longitude             0\n",
      "latitude              0\n",
      "housing_median_age    0\n",
      "total_rooms           0\n",
      "total_bedrooms        0\n",
      "population            0\n",
      "households            0\n",
      "median_income         0\n",
      "median_house_value    0\n",
      "ocean_proximity       0\n",
      "dtype: int64\n"
     ]
    },
    {
     "data": {
      "text/html": [
       "<div>\n",
       "<style scoped>\n",
       "    .dataframe tbody tr th:only-of-type {\n",
       "        vertical-align: middle;\n",
       "    }\n",
       "\n",
       "    .dataframe tbody tr th {\n",
       "        vertical-align: top;\n",
       "    }\n",
       "\n",
       "    .dataframe thead th {\n",
       "        text-align: right;\n",
       "    }\n",
       "</style>\n",
       "<table border=\"1\" class=\"dataframe\">\n",
       "  <thead>\n",
       "    <tr style=\"text-align: right;\">\n",
       "      <th></th>\n",
       "      <th>longitude</th>\n",
       "      <th>latitude</th>\n",
       "      <th>housing_median_age</th>\n",
       "      <th>total_rooms</th>\n",
       "      <th>total_bedrooms</th>\n",
       "      <th>population</th>\n",
       "      <th>households</th>\n",
       "      <th>median_income</th>\n",
       "      <th>median_house_value</th>\n",
       "    </tr>\n",
       "  </thead>\n",
       "  <tbody>\n",
       "    <tr>\n",
       "      <th>count</th>\n",
       "      <td>20640.000000</td>\n",
       "      <td>20640.000000</td>\n",
       "      <td>20640.000000</td>\n",
       "      <td>20640.000000</td>\n",
       "      <td>20640.000000</td>\n",
       "      <td>20640.000000</td>\n",
       "      <td>20640.000000</td>\n",
       "      <td>20640.000000</td>\n",
       "      <td>20640.000000</td>\n",
       "    </tr>\n",
       "    <tr>\n",
       "      <th>mean</th>\n",
       "      <td>-119.569704</td>\n",
       "      <td>35.631861</td>\n",
       "      <td>28.639486</td>\n",
       "      <td>2635.763081</td>\n",
       "      <td>537.870553</td>\n",
       "      <td>1425.476744</td>\n",
       "      <td>499.539680</td>\n",
       "      <td>3.870671</td>\n",
       "      <td>206855.816909</td>\n",
       "    </tr>\n",
       "    <tr>\n",
       "      <th>std</th>\n",
       "      <td>2.003532</td>\n",
       "      <td>2.135952</td>\n",
       "      <td>12.585558</td>\n",
       "      <td>2181.615252</td>\n",
       "      <td>419.266592</td>\n",
       "      <td>1132.462122</td>\n",
       "      <td>382.329753</td>\n",
       "      <td>1.899822</td>\n",
       "      <td>115395.615874</td>\n",
       "    </tr>\n",
       "    <tr>\n",
       "      <th>min</th>\n",
       "      <td>-124.350000</td>\n",
       "      <td>32.540000</td>\n",
       "      <td>1.000000</td>\n",
       "      <td>2.000000</td>\n",
       "      <td>1.000000</td>\n",
       "      <td>3.000000</td>\n",
       "      <td>1.000000</td>\n",
       "      <td>0.499900</td>\n",
       "      <td>14999.000000</td>\n",
       "    </tr>\n",
       "    <tr>\n",
       "      <th>25%</th>\n",
       "      <td>-121.800000</td>\n",
       "      <td>33.930000</td>\n",
       "      <td>18.000000</td>\n",
       "      <td>1447.750000</td>\n",
       "      <td>297.000000</td>\n",
       "      <td>787.000000</td>\n",
       "      <td>280.000000</td>\n",
       "      <td>2.563400</td>\n",
       "      <td>119600.000000</td>\n",
       "    </tr>\n",
       "    <tr>\n",
       "      <th>50%</th>\n",
       "      <td>-118.490000</td>\n",
       "      <td>34.260000</td>\n",
       "      <td>29.000000</td>\n",
       "      <td>2127.000000</td>\n",
       "      <td>438.000000</td>\n",
       "      <td>1166.000000</td>\n",
       "      <td>409.000000</td>\n",
       "      <td>3.534800</td>\n",
       "      <td>179700.000000</td>\n",
       "    </tr>\n",
       "    <tr>\n",
       "      <th>75%</th>\n",
       "      <td>-118.010000</td>\n",
       "      <td>37.710000</td>\n",
       "      <td>37.000000</td>\n",
       "      <td>3148.000000</td>\n",
       "      <td>643.250000</td>\n",
       "      <td>1725.000000</td>\n",
       "      <td>605.000000</td>\n",
       "      <td>4.743250</td>\n",
       "      <td>264725.000000</td>\n",
       "    </tr>\n",
       "    <tr>\n",
       "      <th>max</th>\n",
       "      <td>-114.310000</td>\n",
       "      <td>41.950000</td>\n",
       "      <td>52.000000</td>\n",
       "      <td>39320.000000</td>\n",
       "      <td>6445.000000</td>\n",
       "      <td>35682.000000</td>\n",
       "      <td>6082.000000</td>\n",
       "      <td>15.000100</td>\n",
       "      <td>500001.000000</td>\n",
       "    </tr>\n",
       "  </tbody>\n",
       "</table>\n",
       "</div>"
      ],
      "text/plain": [
       "          longitude      latitude  housing_median_age   total_rooms  \\\n",
       "count  20640.000000  20640.000000        20640.000000  20640.000000   \n",
       "mean    -119.569704     35.631861           28.639486   2635.763081   \n",
       "std        2.003532      2.135952           12.585558   2181.615252   \n",
       "min     -124.350000     32.540000            1.000000      2.000000   \n",
       "25%     -121.800000     33.930000           18.000000   1447.750000   \n",
       "50%     -118.490000     34.260000           29.000000   2127.000000   \n",
       "75%     -118.010000     37.710000           37.000000   3148.000000   \n",
       "max     -114.310000     41.950000           52.000000  39320.000000   \n",
       "\n",
       "       total_bedrooms    population    households  median_income  \\\n",
       "count    20640.000000  20640.000000  20640.000000   20640.000000   \n",
       "mean       537.870553   1425.476744    499.539680       3.870671   \n",
       "std        419.266592   1132.462122    382.329753       1.899822   \n",
       "min          1.000000      3.000000      1.000000       0.499900   \n",
       "25%        297.000000    787.000000    280.000000       2.563400   \n",
       "50%        438.000000   1166.000000    409.000000       3.534800   \n",
       "75%        643.250000   1725.000000    605.000000       4.743250   \n",
       "max       6445.000000  35682.000000   6082.000000      15.000100   \n",
       "\n",
       "       median_house_value  \n",
       "count        20640.000000  \n",
       "mean        206855.816909  \n",
       "std         115395.615874  \n",
       "min          14999.000000  \n",
       "25%         119600.000000  \n",
       "50%         179700.000000  \n",
       "75%         264725.000000  \n",
       "max         500001.000000  "
      ]
     },
     "execution_count": 6,
     "metadata": {},
     "output_type": "execute_result"
    }
   ],
   "source": [
    "#Step3: \n",
    "#To fill the missing values with mean:\n",
    "updated_df = dataset\n",
    "updated_df['total_bedrooms']=updated_df['total_bedrooms'].fillna(updated_df['total_bedrooms'].mean())\n",
    "updated_df.info() #To see what kind of data each column includes.\n",
    "print(updated_df.isnull().sum()) #To check total null values in updated_df.\n",
    "updated_df.describe() #To see how the data is distributed, its size, minimum, mean."
   ]
  },
  {
   "cell_type": "markdown",
   "id": "ae2972c8",
   "metadata": {},
   "source": [
    "## Creating SQL Database and Generic Functions"
   ]
  },
  {
   "cell_type": "code",
   "execution_count": 16,
   "id": "a77139ac",
   "metadata": {},
   "outputs": [],
   "source": [
    "def create_connection(db_file, delete_db=False):\n",
    "    if delete_db and os.path.exists(db_file):\n",
    "        os.remove(db_file)\n",
    "    conn = None\n",
    "    try:\n",
    "        conn = sqlite3.connect(db_file)\n",
    "        conn.execute(\"PRAGMA foreign_keys = 1\")\n",
    "    except Error as e:\n",
    "        print(e)\n",
    "    return conn\n",
    "\n",
    "normalized_database_filename = 'normalized.db'\n",
    "conn = create_connection(normalized_database_filename, delete_db=True)\n",
    "\n",
    "def create_table(conn, create_table_sql, drop_table_name=None):\n",
    "    if drop_table_name: # You can optionally pass drop_table_name to drop the table. \n",
    "        try:\n",
    "            c = conn.cursor()\n",
    "            c.execute(\"\"\"DROP TABLE IF EXISTS %s\"\"\" % (drop_table_name))\n",
    "        except Error as e:\n",
    "            print(e)\n",
    "    try:\n",
    "        c = conn.cursor()\n",
    "        c.execute(create_table_sql)\n",
    "    except Error as e:\n",
    "        print(e)\n",
    "\n",
    "def execute_sql_statement(sql_statement, conn):\n",
    "    cur = conn.cursor()\n",
    "    cur.execute(sql_statement)\n",
    "    rows = cur.fetchall()\n",
    "    return rows\n",
    "cur = conn.cursor()"
   ]
  },
  {
   "cell_type": "markdown",
   "id": "e5369a2b",
   "metadata": {},
   "source": [
    "## Creating Tables"
   ]
  },
  {
   "cell_type": "markdown",
   "id": "76730d83",
   "metadata": {},
   "source": [
    "### Step 1: Creating Location Table"
   ]
  },
  {
   "cell_type": "code",
   "execution_count": 37,
   "id": "9c403ea7",
   "metadata": {},
   "outputs": [],
   "source": [
    "df = updated_df\n",
    "location = []\n",
    "location_ = df[df.columns[0:2]].values.tolist()\n",
    "for ele in location_:\n",
    "    if (ele[0], ele[1]) not in location:\n",
    "        location.append((ele[0], ele[1]))\n",
    "location_query1 = '''\n",
    "    CREATE TABLE Location(\n",
    "        L_ID INTEGER NOT NULL,\n",
    "        longitude INTEGER NOT NULL,\n",
    "        latitude INTEGER NOT NULL,\n",
    "        PRIMARY KEY (L_ID)\n",
    "    )'''\n",
    "create_table(conn, location_query1, drop_table_name='Location')\n",
    "for ele in range(len(location)):\n",
    "    cur.execute('INSERT INTO Location(longitude, latitude) VALUES(?, ?)', (location[ele][0], location[ele][1]))\n",
    "conn.commit()"
   ]
  },
  {
   "cell_type": "markdown",
   "id": "3a33884b",
   "metadata": {},
   "source": [
    "### Step 2: Creating Dictionaries to map:\n",
    "### Location - Location ID"
   ]
  },
  {
   "cell_type": "code",
   "execution_count": 39,
   "id": "c606e80e",
   "metadata": {},
   "outputs": [],
   "source": [
    "data_location = execute_sql_statement('SELECT * FROM Location', conn)\n",
    "location_dict = {(val1, val2):key for key, val1, val2 in data_location}"
   ]
  },
  {
   "cell_type": "markdown",
   "id": "0a7f57da",
   "metadata": {},
   "source": [
    "### Step 3: Creating Housing_Cost Table"
   ]
  },
  {
   "cell_type": "code",
   "execution_count": 53,
   "id": "1d4ca161",
   "metadata": {},
   "outputs": [],
   "source": [
    "housing_cost = df[['longitude', 'latitude', 'housing_median_age', 'median_house_value', 'ocean_proximity']].values.tolist()\n",
    "housing_cost_query1 = '''\n",
    "    CREATE TABLE Housing_Cost(\n",
    "        HC_ID INTEGER NOT NULL,\n",
    "        L_ID INTEGER NOT NULL,\n",
    "        housing_median_age INTEGER NOT NULL,\n",
    "        median_house_value INTEGER NOT NULL,\n",
    "        ocean_proximity TEXT NOT NULL,\n",
    "        PRIMARY KEY (HC_ID),\n",
    "        FOREIGN KEY (L_ID) REFERENCES Location(L_ID)\n",
    "    )'''\n",
    "create_table(conn, housing_cost_query1, drop_table_name='Housing_Cost')\n",
    "for ele in range(len(housing_cost)):\n",
    "    cur.execute('INSERT INTO Housing_Cost(L_ID, housing_median_age, median_house_value, ocean_proximity) VALUES(?, ?, ?, ?)', (location_dict[(housing_cost[ele][0], housing_cost[ele][1])], housing_cost[ele][2], housing_cost[ele][3], housing_cost[ele][4]))\n",
    "conn.commit()    "
   ]
  },
  {
   "cell_type": "markdown",
   "id": "640d4660",
   "metadata": {},
   "source": [
    "### Step 4: Creating Housing_Structure Table"
   ]
  },
  {
   "cell_type": "code",
   "execution_count": 54,
   "id": "07f08efd",
   "metadata": {},
   "outputs": [],
   "source": [
    "housing_structure = df[['longitude', 'latitude', 'total_rooms', 'total_bedrooms']].values.tolist()\n",
    "housing_structure_query1 = '''\n",
    "    CREATE TABLE Housing_Structure(\n",
    "        HS_ID INTEGER NOT NULL,\n",
    "        L_ID INTEGER NOT NULL,\n",
    "        total_rooms INTEGER NOT NULL,\n",
    "        total_bedrooms INTEGER NOT NULL,\n",
    "        PRIMARY KEY (HS_ID),\n",
    "        FOREIGN KEY (L_ID) REFERENCES Location(L_ID)\n",
    "    )'''\n",
    "create_table(conn, housing_structure_query1, drop_table_name='Housing_Structure')\n",
    "for ele in range(len(housing_structure)):\n",
    "    cur.execute('INSERT INTO Housing_Structure(L_ID, total_rooms, total_bedrooms) VALUES(?, ?, ?)', (location_dict[(housing_structure[ele][0], housing_structure[ele][1])], housing_structure[ele][2], housing_structure[ele][3]))\n",
    "conn.commit()    "
   ]
  },
  {
   "cell_type": "markdown",
   "id": "c185a83c",
   "metadata": {},
   "source": [
    "### Step 5: Creating Population Table"
   ]
  },
  {
   "cell_type": "code",
   "execution_count": 56,
   "id": "e847093a",
   "metadata": {},
   "outputs": [],
   "source": [
    "population = df[['longitude', 'latitude', 'population']].values.tolist()\n",
    "population_query1 = '''\n",
    "    CREATE TABLE Population(\n",
    "        P_ID INTEGER NOT NULL,\n",
    "        L_ID INTEGER NOT NULL,\n",
    "        population INTEGER NOT NULL,\n",
    "        PRIMARY KEY (P_ID),\n",
    "        FOREIGN KEY (L_ID) REFERENCES Location(L_ID)\n",
    "    )'''\n",
    "create_table(conn, population_query1, drop_table_name='Population')\n",
    "for ele in range(len(population)):\n",
    "    cur.execute('INSERT INTO Population(L_ID, population) VALUES(?, ?)', (location_dict[(population[ele][0], population[ele][1])], population[ele][2]))\n",
    "conn.commit()    "
   ]
  },
  {
   "cell_type": "markdown",
   "id": "55921e50",
   "metadata": {},
   "source": [
    "### Step 6: Creating Household Table"
   ]
  },
  {
   "cell_type": "code",
   "execution_count": 59,
   "id": "1121f54c",
   "metadata": {},
   "outputs": [],
   "source": [
    "households = df[['longitude', 'latitude', 'households', 'median_income']].values.tolist()\n",
    "households_query1 = '''\n",
    "    CREATE TABLE Households(\n",
    "        HH_ID INTEGER NOT NULL,\n",
    "        L_ID INTEGER NOT NULL,\n",
    "        households INTEGER NOT NULL,\n",
    "        PRIMARY KEY (HH_ID),\n",
    "        FOREIGN KEY (L_ID) REFERENCES Location(L_ID)\n",
    "    )'''\n",
    "create_table(conn, households_query1, drop_table_name='Households')\n",
    "for ele in range(len(households)):\n",
    "    cur.execute('INSERT INTO Households(L_ID, households) VALUES(?, ?)', (location_dict[(households[ele][0], households[ele][1])], households[ele][2]))\n",
    "conn.commit()    "
   ]
  },
  {
   "cell_type": "markdown",
   "id": "7c365357",
   "metadata": {},
   "source": [
    "## Visualisations"
   ]
  },
  {
   "cell_type": "markdown",
   "id": "b738bbfb",
   "metadata": {},
   "source": [
    "### House Value Heatmap in California"
   ]
  },
  {
   "cell_type": "code",
   "execution_count": 129,
   "id": "5ef563f5",
   "metadata": {},
   "outputs": [],
   "source": [
    "#locations_geo = df[['longitude', 'latitude']].values.tolist()\n",
    "#from geopy.geocoders import Nominatim\n",
    "#geolocator = Nominatim(user_agent=\"Mine\")\n",
    "#county = []\n",
    "#for ele in locations_geo[0:20640:100]:\n",
    "#    string = str(str(ele[1]) + ', ' + str(ele[0]))\n",
    "#    #print(string)\n",
    "#    location = geolocator.reverse(string)\n",
    "#    if location.raw['address']['county'] not in county:\n",
    "#        county.append(location.raw['address']['county'])\n",
    "#print(county)"
   ]
  },
  {
   "cell_type": "markdown",
   "id": "2d3f8656",
   "metadata": {},
   "source": []
  }
 ],
 "metadata": {
  "kernelspec": {
   "display_name": "Python 3",
   "language": "python",
   "name": "python3"
  },
  "language_info": {
   "codemirror_mode": {
    "name": "ipython",
    "version": 3
   },
   "file_extension": ".py",
   "mimetype": "text/x-python",
   "name": "python",
   "nbconvert_exporter": "python",
   "pygments_lexer": "ipython3",
   "version": "3.10.0"
  }
 },
 "nbformat": 4,
 "nbformat_minor": 5
}
